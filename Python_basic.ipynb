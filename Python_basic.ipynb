{
 "cells": [
  {
   "cell_type": "markdown",
   "id": "8d2c04d2",
   "metadata": {},
   "source": [
    "# 1 if-else "
   ]
  },
  {
   "cell_type": "code",
   "execution_count": 1,
   "id": "ba3da734",
   "metadata": {},
   "outputs": [
    {
     "name": "stdout",
     "output_type": "stream",
     "text": [
      "24\n",
      "Not Weird\n"
     ]
    }
   ],
   "source": [
    "import math\n",
    "import os\n",
    "import random\n",
    "import re\n",
    "import sys\n",
    "\n",
    "\n",
    "\n",
    "n = int(input())\n",
    "if n % 2 == 1:\n",
    "    print(\"Weird\")\n",
    "elif n % 2 == 0 and 2 <= n <= 5:\n",
    "    print(\"Not Weird\")\n",
    "elif n % 2 == 0 and 6 <= n <= 20:\n",
    "    print(\"Weird\")\n",
    "else:\n",
    "    print(\"Not Weird\")\n"
   ]
  },
  {
   "cell_type": "markdown",
   "id": "c8ad5717",
   "metadata": {},
   "source": [
    "# 2 Arithemetic\n"
   ]
  },
  {
   "cell_type": "code",
   "execution_count": 1,
   "id": "959311b3",
   "metadata": {},
   "outputs": [
    {
     "name": "stdout",
     "output_type": "stream",
     "text": [
      "5\n",
      "4\n",
      "9\n",
      "1\n",
      "20\n"
     ]
    }
   ],
   "source": [
    "if __name__ == '__main__':\n",
    "    a = int(input())\n",
    "    b = int(input())\n",
    "    print(a+b)\n",
    "    print(a-b)\n",
    "    print(a*b)\n",
    "    \n"
   ]
  },
  {
   "cell_type": "markdown",
   "id": "052e7272",
   "metadata": {},
   "source": [
    "# 3 Division"
   ]
  },
  {
   "cell_type": "code",
   "execution_count": 3,
   "id": "09a95d88",
   "metadata": {},
   "outputs": [
    {
     "name": "stdout",
     "output_type": "stream",
     "text": [
      "4\n",
      "3\n",
      "1\n",
      "1.3333333333333333\n"
     ]
    }
   ],
   "source": [
    "if __name__ == '__main__':\n",
    "    a = int(input())\n",
    "    b = int(input())\n",
    "    \n",
    "    print(a//b)\n",
    "    print(a/b)\n",
    "    "
   ]
  },
  {
   "cell_type": "markdown",
   "id": "f6804ee5",
   "metadata": {},
   "source": [
    "# 4 Loops"
   ]
  },
  {
   "cell_type": "code",
   "execution_count": 5,
   "id": "3a60007b",
   "metadata": {},
   "outputs": [
    {
     "name": "stdout",
     "output_type": "stream",
     "text": [
      "4\n",
      "0\n",
      "1\n",
      "4\n",
      "9\n"
     ]
    }
   ],
   "source": [
    "if __name__ == '__main__':\n",
    "    n = int(input())\n",
    "    for i in range(n):\n",
    "        print(i**2)"
   ]
  },
  {
   "cell_type": "markdown",
   "id": "072e12ac",
   "metadata": {},
   "source": [
    "# 5 A Function"
   ]
  },
  {
   "cell_type": "code",
   "execution_count": 8,
   "id": "5cc9cc7b",
   "metadata": {},
   "outputs": [
    {
     "name": "stdout",
     "output_type": "stream",
     "text": [
      "1990\n",
      "False\n"
     ]
    }
   ],
   "source": [
    "def is_leap(year):\n",
    "    leap = False\n",
    "    \n",
    "    # Write your logic here \n",
    "    if year%4==0:\n",
    "        if year%100==0:\n",
    "            leap=False\n",
    "        else:\n",
    "            leap=True\n",
    "    if year%400==0:\n",
    "        leap=True\n",
    "    \n",
    "    \n",
    "    return leap\n",
    "\n",
    "year = int(input())\n",
    "print(is_leap(year))\n"
   ]
  },
  {
   "cell_type": "markdown",
   "id": "43ed6b3d",
   "metadata": {},
   "source": [
    "# 6 print function"
   ]
  },
  {
   "cell_type": "code",
   "execution_count": 9,
   "id": "02942134",
   "metadata": {},
   "outputs": [
    {
     "name": "stdout",
     "output_type": "stream",
     "text": [
      "10\n",
      "12345678910"
     ]
    }
   ],
   "source": [
    "if __name__ == '__main__':\n",
    "    n = int(input())\n",
    "    for i in range(1,n+1):\n",
    "        print(i,end=\"\")"
   ]
  },
  {
   "cell_type": "markdown",
   "id": "eeb9506c",
   "metadata": {},
   "source": [
    "# 7 Comprehensions"
   ]
  },
  {
   "cell_type": "code",
   "execution_count": 10,
   "id": "0cf35590",
   "metadata": {},
   "outputs": [
    {
     "name": "stdout",
     "output_type": "stream",
     "text": [
      "2\n",
      "1\n",
      "3\n",
      "4\n",
      "[[0, 0, 0], [0, 0, 1], [0, 0, 2], [0, 0, 3], [0, 1, 0], [0, 1, 1], [0, 1, 2], [1, 0, 0], [1, 0, 1], [1, 0, 2], [1, 1, 0], [1, 1, 1], [1, 1, 3], [2, 0, 0], [2, 0, 1], [2, 0, 3], [2, 1, 0], [2, 1, 2], [2, 1, 3]]\n"
     ]
    }
   ],
   "source": [
    "if __name__ == '__main__':\n",
    "    x = int(input())\n",
    "    y = int(input())\n",
    "    z = int(input())\n",
    "    n = int(input())\n",
    "    lst=[]\n",
    "    for i in range(x+1):\n",
    "        for j in range(y+1):\n",
    "            for k in range(z+1):\n",
    "                if(i+j+k)!=n:\n",
    "                    lst.append([i,j,k]) \n",
    "print(lst)"
   ]
  },
  {
   "cell_type": "markdown",
   "id": "ed511e6c",
   "metadata": {},
   "source": [
    "# 8 Runner up score"
   ]
  },
  {
   "cell_type": "code",
   "execution_count": 12,
   "id": "8320022e",
   "metadata": {},
   "outputs": [
    {
     "name": "stdout",
     "output_type": "stream",
     "text": [
      "4\n",
      "1 2 3 3\n",
      "2\n"
     ]
    }
   ],
   "source": [
    "from collections import Counter\n",
    "if __name__ == '__main__':\n",
    "    n = int(input())\n",
    "    arr = map(int, input().split())\n",
    "    arr=list(arr)\n",
    "    count=Counter(arr)\n",
    "    count=dict(count)\n",
    "    k=list(count.keys())\n",
    "    maxi=max(k)\n",
    "    k.pop(k.index(maxi))\n",
    "    print(max(k))"
   ]
  },
  {
   "cell_type": "markdown",
   "id": "3d646b64",
   "metadata": {},
   "source": [
    "# 9 Nested List"
   ]
  },
  {
   "cell_type": "code",
   "execution_count": 1,
   "id": "ddfb7a3e",
   "metadata": {},
   "outputs": [
    {
     "name": "stdout",
     "output_type": "stream",
     "text": [
      "4\n",
      "varad\n",
      "22\n",
      "a\n",
      "21\n",
      "x\n",
      "4\n",
      "z\n",
      "8\n",
      "z\n"
     ]
    }
   ],
   "source": [
    "from collections import Counter\n",
    "if __name__ == '__main__':\n",
    "    lst=[]\n",
    "    n=int(input())\n",
    "    for _ in range(n):\n",
    "        name = input()\n",
    "        score = float(input())\n",
    "        lst.append([name, score])\n",
    "    lst2=[]\n",
    "    for i in range(n):\n",
    "        lst2.append(lst[i][1])\n",
    "\n",
    "    count=Counter(lst2)\n",
    "    count=dict(count)\n",
    "\n",
    "    k=list(count.keys())\n",
    "    maxi=min(k)\n",
    "    k.pop(k.index(maxi))\n",
    "    maxi2=(min(k))\n",
    "    lst3=[]\n",
    "    for i in range(n):\n",
    "        if lst[i][1]==maxi2:\n",
    "            lst3.append(lst[i][0])\n",
    "    lst3.sort()\n",
    "    for each in lst3:\n",
    "        print (each)\n"
   ]
  },
  {
   "cell_type": "markdown",
   "id": "325b6b5e",
   "metadata": {},
   "source": [
    "# 10 find the percentage"
   ]
  },
  {
   "cell_type": "code",
   "execution_count": 2,
   "id": "ed3398eb",
   "metadata": {},
   "outputs": [
    {
     "name": "stdout",
     "output_type": "stream",
     "text": [
      "2\n",
      "a 30 21 20\n",
      "b 20 30 10\n",
      "b\n",
      "20.00\n"
     ]
    }
   ],
   "source": [
    "if __name__ == '__main__':\n",
    "    n = int(input())\n",
    "    student_marks = {}\n",
    "    for _ in range(n):\n",
    "        name, *line = input().split()\n",
    "        scores = list(map(float, line))\n",
    "        student_marks[name] = scores\n",
    "    query_name = input()\n",
    "    marks=student_marks[query_name]\n",
    "    avrg=(marks[0]+marks[1]+marks[2])/3\n",
    "    print(f\"{avrg:.2f}\")"
   ]
  },
  {
   "cell_type": "markdown",
   "id": "124d0d35",
   "metadata": {},
   "source": [
    "# 11.Lists\n"
   ]
  },
  {
   "cell_type": "code",
   "execution_count": 12,
   "id": "276952fa",
   "metadata": {},
   "outputs": [
    {
     "name": "stdout",
     "output_type": "stream",
     "text": [
      "12\n",
      "insert 0 5\n",
      "insert 1 10\n",
      "insert 0 6\n",
      "print\n",
      "[6, 5, 10]\n",
      "append 9\n",
      "append 1\n",
      "remove 6\n",
      "sort\n",
      "print\n",
      "[1, 5, 9, 10]\n",
      "reverse\n",
      "print\n",
      "[10, 9, 5, 1]\n",
      "reverse\n"
     ]
    }
   ],
   "source": [
    "if __name__ == '__main__':\n",
    "    lst=[]\n",
    "    N = int(input())\n",
    "    for i in range(N):\n",
    "        cmd=input()\n",
    "        if cmd[:6]=='insert':\n",
    "            lst.insert(int(cmd[7:9]), int(cmd[9:]))\n",
    "        elif cmd=='print':\n",
    "            print(lst)\n",
    "        elif cmd[:6]=='remove':\n",
    "            lst.remove(int(cmd[7:]))\n",
    "        elif cmd[:6]=='append':\n",
    "            lst.append(int(cmd[7:]))\n",
    "        elif cmd== 'sort':\n",
    "            lst.sort()\n",
    "        elif cmd=='pop':\n",
    "            lst.pop()\n",
    "        elif cmd=='reverse':\n",
    "            lst.reverse()"
   ]
  },
  {
   "cell_type": "markdown",
   "id": "204a2891",
   "metadata": {},
   "source": [
    "# 12 Tuples"
   ]
  },
  {
   "cell_type": "code",
   "execution_count": 17,
   "id": "5cc1207b",
   "metadata": {},
   "outputs": [
    {
     "name": "stdout",
     "output_type": "stream",
     "text": [
      "2\n",
      "1 2\n",
      "-3550055125485641917\n"
     ]
    }
   ],
   "source": [
    "if __name__ == '__main__':\n",
    "    n = int(input())\n",
    "    integer_list = map(int, input().split())\n",
    "    integer_tuple=tuple(integer_list)\n",
    "    print(hash(integer_tuple))"
   ]
  },
  {
   "cell_type": "code",
   "execution_count": null,
   "id": "ce73a217",
   "metadata": {},
   "outputs": [],
   "source": [
    "\n"
   ]
  }
 ],
 "metadata": {
  "kernelspec": {
   "display_name": "Python 3 (ipykernel)",
   "language": "python",
   "name": "python3"
  },
  "language_info": {
   "codemirror_mode": {
    "name": "ipython",
    "version": 3
   },
   "file_extension": ".py",
   "mimetype": "text/x-python",
   "name": "python",
   "nbconvert_exporter": "python",
   "pygments_lexer": "ipython3",
   "version": "3.9.7"
  }
 },
 "nbformat": 4,
 "nbformat_minor": 5
}
